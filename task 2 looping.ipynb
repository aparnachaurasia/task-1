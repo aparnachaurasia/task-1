{
 "cells": [
  {
   "cell_type": "code",
   "execution_count": 1,
   "metadata": {},
   "outputs": [
    {
     "name": "stdout",
     "output_type": "stream",
     "text": [
      "Enter the terms \n",
      "6\n",
      "0 1 1 2 3 5 "
     ]
    }
   ],
   "source": [
    "a=int(input(\"Enter the terms \\n\"))\n",
    "f=0                                        \n",
    "s=1                                        \n",
    "if a<=0:\n",
    "    print(\"The requested series is\",f)\n",
    "else:\n",
    "    print(f,s,end=\" \")\n",
    "    for x in range(2,a):\n",
    "        next=f+s                           \n",
    "        print(next,end=\" \")\n",
    "        f=s\n",
    "        s=next"
   ]
  },
  {
   "cell_type": "code",
   "execution_count": 2,
   "metadata": {},
   "outputs": [
    {
     "name": "stdout",
     "output_type": "stream",
     "text": [
      "12 5 64 12 14 3 "
     ]
    }
   ],
   "source": [
    "list1 = [12,-7, 5, 64,-14]\n",
    "for num in list1: \n",
    "    if num >= 0: \n",
    "       print(num,end=\" \")\n",
    "\n",
    "list2 = [12,14,-95,3]\n",
    "for num in list2: \n",
    "    if num >= 0: \n",
    "       print(num,end=\" \")"
   ]
  },
  {
   "cell_type": "code",
   "execution_count": null,
   "metadata": {},
   "outputs": [],
   "source": []
  }
 ],
 "metadata": {
  "kernelspec": {
   "display_name": "Python 3",
   "language": "python",
   "name": "python3"
  },
  "language_info": {
   "codemirror_mode": {
    "name": "ipython",
    "version": 3
   },
   "file_extension": ".py",
   "mimetype": "text/x-python",
   "name": "python",
   "nbconvert_exporter": "python",
   "pygments_lexer": "ipython3",
   "version": "3.8.6"
  }
 },
 "nbformat": 4,
 "nbformat_minor": 4
}
